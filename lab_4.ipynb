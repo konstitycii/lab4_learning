{
 "cells": [
  {
   "cell_type": "code",
   "execution_count": 1,
   "id": "abba7bdb-cb9a-4037-a2ef-a918093b4cc8",
   "metadata": {},
   "outputs": [],
   "source": [
    "import torch\n",
    "import torch.nn as nn\n",
    "import torchvision\n",
    "import torchvision.transforms as transforms\n",
    "import numpy as np\n",
    "import matplotlib.pyplot as plt\n",
    "import itertools\n",
    "import torch.utils.data as data_utils"
   ]
  },
  {
   "cell_type": "code",
   "execution_count": 2,
   "id": "74ec7c95-14bc-434a-b370-d39e448b8060",
   "metadata": {},
   "outputs": [],
   "source": [
    "device = torch.device('cuda:0' if torch.cuda.is_available() else 'cpu')"
   ]
  },
  {
   "cell_type": "code",
   "execution_count": 3,
   "id": "38b9fea8-0a5c-40da-8a1c-805065f03f4a",
   "metadata": {},
   "outputs": [],
   "source": [
    "data_transforms = transforms.Compose([     \n",
    "                        transforms.Resize(256),\n",
    "                        transforms.CenterCrop(224),\n",
    "                        transforms.ToTensor(),\n",
    "                        transforms.Normalize(mean=[0.485, 0.456, 0.406],\n",
    "                                             std=[0.229, 0.224, 0.225] )\n",
    "    ])"
   ]
  },
  {
   "cell_type": "code",
   "execution_count": 4,
   "id": "870e2f23-f97f-48eb-9ef9-43cf8f2d2e82",
   "metadata": {},
   "outputs": [],
   "source": [
    "batch_size = 10\n",
    "\n",
    "#ТРЕЙНИНГ\n",
    "train_dataset = torchvision.datasets.ImageFolder(root='./animals/train', \n",
    "                                                 transform=data_transforms)\n",
    "#СЛАЙСИНГ (через random_split)\n",
    "len_sliced = 2000\n",
    "tr_sliced = torch.utils.data.random_split(train_dataset, [len_sliced, len(train_dataset)-len_sliced])[0]\n",
    "\n",
    "train_loader = torch.utils.data.DataLoader(tr_sliced, batch_size=batch_size, \n",
    "                                    shuffle=True,  num_workers=2)\n",
    "\n",
    "\n",
    "#ТЕСТ\n",
    "test_dataset = torchvision.datasets.ImageFolder(root='./animals/val',\n",
    "                                             transform=data_transforms)\n",
    "len_sliced = 1000\n",
    "test_sliced = torch.utils.data.random_split(test_dataset, [len_sliced, len(test_dataset)-len_sliced])[0]\n",
    "\n",
    "test_loader  = torch.utils.data.DataLoader(test_sliced, batch_size=batch_size, \n",
    "                                    shuffle=True, num_workers=2) \n",
    "\n"
   ]
  },
  {
   "cell_type": "code",
   "execution_count": 5,
   "id": "c580aaef-47a0-471c-9749-331e9a55e824",
   "metadata": {},
   "outputs": [
    {
     "name": "stdout",
     "output_type": "stream",
     "text": [
      "['cat', 'dog', 'wild']\n",
      "['cat', 'dog', 'wild']\n"
     ]
    }
   ],
   "source": [
    "print(train_dataset.classes)\n",
    "print(test_dataset.classes)"
   ]
  },
  {
   "cell_type": "code",
   "execution_count": 6,
   "id": "34600009-d47d-4e3d-92ea-4da63a92a645",
   "metadata": {},
   "outputs": [],
   "source": [
    "# Сохранение названия классов\n",
    "class_names = train_dataset.classes"
   ]
  },
  {
   "cell_type": "code",
   "execution_count": 2,
   "id": "3ecdffcc-9447-41ec-a5be-bdb256a90fe6",
   "metadata": {},
   "outputs": [
    {
     "ename": "NameError",
     "evalue": "name 'train_loader' is not defined",
     "output_type": "error",
     "traceback": [
      "\u001b[1;31m---------------------------------------------------------------------------\u001b[0m",
      "\u001b[1;31mNameError\u001b[0m                                 Traceback (most recent call last)",
      "Cell \u001b[1;32mIn[2], line 1\u001b[0m\n\u001b[1;32m----> 1\u001b[0m inputs, classes \u001b[38;5;241m=\u001b[39m \u001b[38;5;28mnext\u001b[39m(\u001b[38;5;28miter\u001b[39m(train_loader))\n\u001b[0;32m      3\u001b[0m inputs\u001b[38;5;241m.\u001b[39mshape\n\u001b[0;32m      5\u001b[0m classes\n",
      "\u001b[1;31mNameError\u001b[0m: name 'train_loader' is not defined"
     ]
    }
   ],
   "source": [
    "inputs, classes = next(iter(train_loader))\n",
    "\n",
    "inputs.shape\n",
    "\n",
    "classes\n",
    "\n",
    "img = torchvision.utils.make_grid(inputs, nrow = 3)\n",
    "img = img.numpy().transpose((1, 2, 0)) \n",
    "plt.imshow(img.astype(np.float32))"
   ]
  },
  {
   "cell_type": "code",
   "execution_count": 4,
   "id": "4a7aca6f-1be1-47dd-bf51-6b7fc9961c76",
   "metadata": {},
   "outputs": [
    {
     "ename": "NameError",
     "evalue": "name 'torch' is not defined",
     "output_type": "error",
     "traceback": [
      "\u001b[1;31m---------------------------------------------------------------------------\u001b[0m",
      "\u001b[1;31mNameError\u001b[0m                                 Traceback (most recent call last)",
      "Cell \u001b[1;32mIn[4], line 1\u001b[0m\n\u001b[1;32m----> 1\u001b[0m \u001b[38;5;28;01mclass\u001b[39;00m \u001b[38;5;21;01mCNN\u001b[39;00m(torch\u001b[38;5;241m.\u001b[39mnn\u001b[38;5;241m.\u001b[39mModule): \n\u001b[0;32m      2\u001b[0m     \u001b[38;5;28;01mdef\u001b[39;00m \u001b[38;5;21m__init__\u001b[39m(\u001b[38;5;28mself\u001b[39m, num_classes\u001b[38;5;241m=\u001b[39m\u001b[38;5;241m3\u001b[39m): \n\u001b[0;32m      3\u001b[0m         \u001b[38;5;28msuper\u001b[39m()\u001b[38;5;241m.\u001b[39m\u001b[38;5;21m__init__\u001b[39m() \n",
      "\u001b[1;31mNameError\u001b[0m: name 'torch' is not defined"
     ]
    }
   ],
   "source": [
    "class CNN(torch.nn.Module): \n",
    "    def __init__(self, num_classes=3): \n",
    "        super().__init__() \n",
    "        self.model = torch.nn.Sequential( \n",
    "            torch.nn.Conv2d(in_channels = 3, out_channels = 6, kernel_size = 3, padding = 1),  \n",
    "            torch.nn.ReLU(), \n",
    "            torch.nn.MaxPool2d(kernel_size=2), \n",
    "  \n",
    "            torch.nn.Conv2d(in_channels = 6, out_channels = 6, kernel_size = 3, padding = 1), \n",
    "            torch.nn.ReLU(), \n",
    "            torch.nn.MaxPool2d(kernel_size=2), \n",
    "              \n",
    "            torch.nn.Conv2d(in_channels = 6, out_channels = 6, kernel_size = 3, padding = 1), \n",
    "            torch.nn.ReLU(), \n",
    "            torch.nn.MaxPool2d(kernel_size=2), \n",
    "  \n",
    "            torch.nn.Flatten(), \n",
    "            torch.nn.Linear(4704, 512), \n",
    "            torch.nn.ReLU(), \n",
    "            torch.nn.Linear(512, num_classes) \n",
    "        ) \n",
    "  \n",
    "    def forward(self, x): \n",
    "        return self.model(x) "
   ]
  },
  {
   "cell_type": "code",
   "execution_count": 2,
   "id": "2b59bfbb-e01e-43a5-823a-b8d0a4b2c4e5",
   "metadata": {},
   "outputs": [
    {
     "ename": "NameError",
     "evalue": "name 'CNN' is not defined",
     "output_type": "error",
     "traceback": [
      "\u001b[1;31m---------------------------------------------------------------------------\u001b[0m",
      "\u001b[1;31mNameError\u001b[0m                                 Traceback (most recent call last)",
      "Cell \u001b[1;32mIn[2], line 6\u001b[0m\n\u001b[0;32m      3\u001b[0m learning_rate \u001b[38;5;241m=\u001b[39m \u001b[38;5;241m0.001\u001b[39m\n\u001b[0;32m      4\u001b[0m weight_decay \u001b[38;5;241m=\u001b[39m \u001b[38;5;241m0.01\u001b[39m\n\u001b[1;32m----> 6\u001b[0m net \u001b[38;5;241m=\u001b[39m CNN()\u001b[38;5;241m.\u001b[39mto(device)\n\u001b[0;32m      8\u001b[0m lossFn \u001b[38;5;241m=\u001b[39m nn\u001b[38;5;241m.\u001b[39mCrossEntropyLoss()\n\u001b[0;32m      9\u001b[0m criterion \u001b[38;5;241m=\u001b[39m torch\u001b[38;5;241m.\u001b[39mnn\u001b[38;5;241m.\u001b[39mCrossEntropyLoss() \n",
      "\u001b[1;31mNameError\u001b[0m: name 'CNN' is not defined"
     ]
    }
   ],
   "source": [
    "#гиперпараметры\n",
    "num_epochs = 2\n",
    "learning_rate = 0.001\n",
    "weight_decay = 0.01\n",
    "\n",
    "net = CNN().to(device)\n",
    "\n",
    "lossFn = nn.CrossEntropyLoss()\n",
    "criterion = torch.nn.CrossEntropyLoss() \n",
    "optimizer = torch.optim.SGD(net.parameters(), lr=0.01)\n",
    "  \n",
    "\n",
    "train_loss_list = [] \n",
    "import time\n",
    "t = time.time()\n",
    "for epoch in range(num_epochs): \n",
    "    print(f'Epoch {epoch+1}/{num_epochs}:', end = ' ') \n",
    "    train_loss = 0\n",
    "    for i, (images, labels) in enumerate(train_loader):\n",
    "        images = images.to(device)\n",
    "        labels = labels.to(device)\n",
    "        \n",
    "        outputs = net(images)\n",
    "        \n",
    "        loss = lossFn(outputs, labels)\n",
    "\n",
    "        optimizer.zero_grad()\n",
    "        loss.backward()\n",
    "        \n",
    "        optimizer.step()\n",
    "        \n",
    "        if i%10==0:\n",
    "            print('Эпоха ' + str(epoch) + ' из ' + str(num_epochs) + ' Шаг ' +\n",
    "                  str(i) + ' Ошибка: ', loss.item())\n",
    "        \n",
    "print('Time:',time.time() - t)\n"
   ]
  },
  {
   "cell_type": "code",
   "execution_count": 3,
   "id": "4f43a4c2-c6e6-47b6-8f2f-9ff5255af1b9",
   "metadata": {},
   "outputs": [
    {
     "ename": "NameError",
     "evalue": "name 'test_sliced' is not defined",
     "output_type": "error",
     "traceback": [
      "\u001b[1;31m---------------------------------------------------------------------------\u001b[0m",
      "\u001b[1;31mNameError\u001b[0m                                 Traceback (most recent call last)",
      "Cell \u001b[1;32mIn[3], line 2\u001b[0m\n\u001b[0;32m      1\u001b[0m correct_predictions \u001b[38;5;241m=\u001b[39m \u001b[38;5;241m0\u001b[39m\n\u001b[1;32m----> 2\u001b[0m num_test_samples \u001b[38;5;241m=\u001b[39m \u001b[38;5;28mlen\u001b[39m(test_sliced)\n\u001b[0;32m      4\u001b[0m \u001b[38;5;28;01mwith\u001b[39;00m torch\u001b[38;5;241m.\u001b[39mno_grad():\n\u001b[0;32m      5\u001b[0m     \u001b[38;5;28;01mfor\u001b[39;00m images, labels \u001b[38;5;129;01min\u001b[39;00m test_loader:\n",
      "\u001b[1;31mNameError\u001b[0m: name 'test_sliced' is not defined"
     ]
    }
   ],
   "source": [
    "correct_predictions = 0\n",
    "num_test_samples = len(test_sliced)\n",
    "\n",
    "with torch.no_grad():\n",
    "    for images, labels in test_loader:\n",
    "        images = images.to(device)\n",
    "        labels = labels.to(device)\n",
    "        pred = net(images) \n",
    "        _, pred_class = torch.max(pred.data, 1) \n",
    "        correct_predictions += (pred_class == labels).sum().item()\n",
    "\n",
    "print('Точность модели: ' + str(100 * correct_predictions / num_test_samples) + '%')"
   ]
  },
  {
   "cell_type": "code",
   "execution_count": 4,
   "id": "efeaeddc-c59b-4b24-a410-31d99a8e210f",
   "metadata": {},
   "outputs": [
    {
     "ename": "NameError",
     "evalue": "name 'test_loader' is not defined",
     "output_type": "error",
     "traceback": [
      "\u001b[1;31m---------------------------------------------------------------------------\u001b[0m",
      "\u001b[1;31mNameError\u001b[0m                                 Traceback (most recent call last)",
      "Cell \u001b[1;32mIn[4], line 1\u001b[0m\n\u001b[1;32m----> 1\u001b[0m inputs, classes \u001b[38;5;241m=\u001b[39m \u001b[38;5;28mnext\u001b[39m(\u001b[38;5;28miter\u001b[39m(test_loader))\n\u001b[0;32m      2\u001b[0m pred \u001b[38;5;241m=\u001b[39m net(inputs\u001b[38;5;241m.\u001b[39mto(device))\n\u001b[0;32m      3\u001b[0m _, pred_class \u001b[38;5;241m=\u001b[39m torch\u001b[38;5;241m.\u001b[39mmax(pred\u001b[38;5;241m.\u001b[39mdata, \u001b[38;5;241m1\u001b[39m)\n",
      "\u001b[1;31mNameError\u001b[0m: name 'test_loader' is not defined"
     ]
    }
   ],
   "source": [
    "inputs, classes = next(iter(test_loader))\n",
    "pred = net(inputs.to(device))\n",
    "_, pred_class = torch.max(pred.data, 1)\n",
    "\n",
    "\n",
    "for i,j in zip(inputs, pred_class):\n",
    "    img = i.numpy().transpose((1, 2, 0))\n",
    "    mean = np.array([0.485, 0.456, 0.406])\n",
    "    std = np.array([0.229, 0.224, 0.225])\n",
    "    img = std * img + mean\n",
    "    img = np.clip(img, 0, 1)\n",
    "    plt.imshow(img)\n",
    "    plt.title(class_names[j])\n",
    "    plt.pause(2)\n"
   ]
  },
  {
   "cell_type": "code",
   "execution_count": 5,
   "id": "7dfd82bf-2b68-410d-b882-36b0474abd35",
   "metadata": {},
   "outputs": [
    {
     "ename": "NameError",
     "evalue": "name 'torch' is not defined",
     "output_type": "error",
     "traceback": [
      "\u001b[1;31m---------------------------------------------------------------------------\u001b[0m",
      "\u001b[1;31mNameError\u001b[0m                                 Traceback (most recent call last)",
      "Cell \u001b[1;32mIn[5], line 1\u001b[0m\n\u001b[1;32m----> 1\u001b[0m torch\u001b[38;5;241m.\u001b[39msave(net\u001b[38;5;241m.\u001b[39mstate_dict(), \u001b[38;5;124m'\u001b[39m\u001b[38;5;124mnet.ckpt\u001b[39m\u001b[38;5;124m'\u001b[39m)\n",
      "\u001b[1;31mNameError\u001b[0m: name 'torch' is not defined"
     ]
    }
   ],
   "source": [
    "\n",
    "torch.save(net.state_dict(), 'net.ckpt')\n"
   ]
  },
  {
   "cell_type": "code",
   "execution_count": null,
   "id": "40b85c2e-6081-4086-a8e5-4adc1ca94aa0",
   "metadata": {},
   "outputs": [],
   "source": []
  },
  {
   "cell_type": "code",
   "execution_count": null,
   "id": "f160b4ca-aaf3-4c4f-8e97-24073c991ffc",
   "metadata": {},
   "outputs": [],
   "source": []
  }
 ],
 "metadata": {
  "kernelspec": {
   "display_name": "Python 3 (ipykernel)",
   "language": "python",
   "name": "python3"
  },
  "language_info": {
   "codemirror_mode": {
    "name": "ipython",
    "version": 3
   },
   "file_extension": ".py",
   "mimetype": "text/x-python",
   "name": "python",
   "nbconvert_exporter": "python",
   "pygments_lexer": "ipython3",
   "version": "3.11.7"
  }
 },
 "nbformat": 4,
 "nbformat_minor": 5
}
